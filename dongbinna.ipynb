{
 "cells": [
  {
   "cell_type": "markdown",
   "metadata": {},
   "source": [
    "# 17155730 박휘원"
   ]
  },
  {
   "cell_type": "code",
   "execution_count": 1,
   "metadata": {},
   "outputs": [
    {
     "name": "stdout",
     "output_type": "stream",
     "text": [
      "자바 기초 프로그래밍 강좌를 완강했습니다.\n",
      "컴잘알에 오신 것을 환영합니다.\n"
     ]
    }
   ],
   "source": [
    "import requests\n",
    "from bs4 import BeautifulSoup\n",
    "\n",
    "# 특정 URL에 접속하는 요청(Reqeust) 객체를 생성합니다.\n",
    "request = requests.get(\"http://www.dowellcomputer.com/main.jsp\")\n",
    "\n",
    "# 접속한 이후의 웹 사이트 소스코드를 추출합니다.\n",
    "html = request.text\n",
    "\n",
    "# HTML 소스코드를 파이썬 객체로 변환합니다.\n",
    "soup = BeautifulSoup(html, 'html.parser')\n",
    "\n",
    "# <a> 태그 포함하는 요소를 추출합니다.\n",
    "links = soup.select('td > a')\n",
    "\n",
    "# 모든 링크에 하나씩 접근합니다.\n",
    "for link in links:\n",
    "    # 링크가 href 속성을 가지고 있다면\n",
    "    if link.has_attr('href'):\n",
    "        # href 속성의 값으로 notice라는 문자를 포함되어 있다면\n",
    "        if link.get('href').find('notice') != -1:\n",
    "            print(link.text)"
   ]
  },
  {
   "cell_type": "code",
   "execution_count": 2,
   "metadata": {},
   "outputs": [
    {
     "name": "stdout",
     "output_type": "stream",
     "text": [
      "총 75 개의 주제를 찾았습니다\n",
      "['Family', 'Restaurant', 'Books', 'Travel', 'Website', 'Accident', 'Childhood memory', 'Favorite rooms', 'Presents', 'Historical place', 'Newspaper/ Magazine', 'A memorable event', 'A favorite subject', 'A museum', 'A favorite movie', 'A foreign country', 'Parties', 'A teacher', 'A friend', 'A hotel', 'A letter', 'Hobbies', 'Music', 'Shopping', 'Holiday', 'Animals', 'A practical skill', 'Sport', 'A School', 'Festival', 'Food', 'Household appliance', 'A music band', 'Weather', 'Neighbor', 'Natural scenery', 'Outdoor activities', 'Law', 'Pollution', 'Traffic jam', 'TV program', 'Architect/ Building', 'Electronic Media', 'Job/ Career', 'Competition/ contest', 'A garden', 'Hometown', 'Clothing', 'Advertisement', 'A project', 'A wedding', 'A Coffee shop', 'Culture', 'Transport', 'Politician', 'Communication', 'Business', 'Computer', 'Exercise', 'Goal/ ambition', 'Art', 'Fashion', 'Jewelry', 'Cosmetic', 'Indoor Game', 'Phone conversation', 'Learning A Second language', 'A\\xa0Creative Person', 'A celebrity', 'A Health Problem', 'Technological advancements', 'A Landmark', 'Handcraft Items', 'Plastic Surgery', 'Success']\n"
     ]
    }
   ],
   "source": [
    "import requests\n",
    "from bs4 import BeautifulSoup\n",
    "\n",
    "# 한 건의 대화에 대한 정보를 담는 클래스입니다.\n",
    "class Conversation:\n",
    "    # 질문(Question), 응답(Answer) 두 변수로 구성합니다.\n",
    "    def __init__(self, question, answer):\n",
    "        self.question = question\n",
    "        self.answer = answer\n",
    "        \n",
    "    def __str__(self):\n",
    "        return \"질문: \" + self.question + '\\n답변: ' + self.answer + '\\n'\n",
    "        \n",
    "# 모든 영어 대화 주제를 추출하는 함수입니다.\n",
    "def get_subjects():\n",
    "    subjects = []\n",
    "    \n",
    "    # 전체 주제 목록을 보여주는 페이지로의 요청(Request) 객체를 생성합니다.\n",
    "    request = requests.get('https://basicenglishspeaking.com/daily-english-conversation-topics/')\n",
    "    html = request.text\n",
    "    soup = BeautifulSoup(html, 'html.parser')\n",
    "    \n",
    "    divs = soup.find_all('div', {'class': 'thrv_wrapper thrv-columns'})\n",
    "    for div in divs:\n",
    "        # 내부에 존재하는 <a> 태그들을 추출합니다.\n",
    "        links = div.find_all('a')\n",
    "        \n",
    "        # <a> 태그 내부 텍스트를 리스트에 삽입합니다.\n",
    "        for link in links:\n",
    "            subject = link.text\n",
    "            subjects.append(subject)\n",
    "            \n",
    "    return subjects\n",
    "\n",
    "subjects = get_subjects()\n",
    "print('총', len(subjects), '개의 주제를 찾았습니다')\n",
    "print(subjects)"
   ]
  },
  {
   "cell_type": "code",
   "execution_count": 3,
   "metadata": {},
   "outputs": [
    {
     "name": "stdout",
     "output_type": "stream",
     "text": [
      "( 1 / 75 ) Family\n",
      "총 10 개의 대화를 찾았습니다.\n",
      "질문: How many people are there in your family?\n",
      "답변: There are 5 people in my family: my father, mother, brother, sister, and me.\n",
      "\n",
      "질문: Does your family live in a house or an apartment?\n",
      "답변: We live in a house in the countryside.\n",
      "\n",
      "질문: What does your father do?\n",
      "답변: My father is a doctor. He works at the local hospital.\n",
      "\n",
      "질문: How old is your mother?\n",
      "답변: She is 40 years old, 1 year younger than my father.\n",
      "\n",
      "질문: Do you have any siblings? What’s his/her name?\n",
      "답변: Yes, I do. I have 1 elder brother, David, and 1 younger sister, Mary.\n",
      "\n",
      "질문: Are you the oldest amongst your brothers and sisters?\n",
      "답변: No, I’m not. I’m the second child in my family.\n",
      "\n",
      "질문: What does your mother/father like?\n",
      "답변: My father likes playing football and my mother likes cooking.\n",
      "\n",
      "질문: Do your parents let you stay out late?\n",
      "답변: Of course not. They always ask me to get home before 10 pm each night.\n",
      "\n",
      "질문: Do you stay with your parents?\n",
      "답변: Right now, no, but I used to.\n",
      "\n",
      "질문: Does your family usually have dinner together?\n",
      "답변: Yes, we do. My mom always prepares delicious meals for us.\n",
      "\n"
     ]
    }
   ],
   "source": [
    "conversations = []\n",
    "i = 1\n",
    "\n",
    "# 모든 대화 주제 각각에 접근합니다.\n",
    "for sub in subjects:\n",
    "    print('(', i, '/', len(subjects), ')', sub)\n",
    "    # 대화 스크립트를 보여주는 페이지로의 요청(Request) 객체를 생성합니다.\n",
    "    request = requests.get('https://basicenglishspeaking.com/' + sub)\n",
    "    html = request.text\n",
    "    soup = BeautifulSoup(html, 'html.parser')\n",
    "    \n",
    "    qnas = soup.find_all('div', {'class': 'sc_player_container1'})\n",
    "    \n",
    "    # 각각의 대화 내용을 모두 접근합니다.\n",
    "    for qna in qnas:\n",
    "        if qnas.index(qna) % 2 == 0:\n",
    "            q = qna.next_sibling\n",
    "        else:\n",
    "            a = qna.next_sibling\n",
    "            c = Conversation(q, a)\n",
    "            conversations.append(c)\n",
    "    i = i + 1\n",
    "    \n",
    "    # 테스트를 위해 첫 번째 주제만 가져오고 끝냅니다.\n",
    "    if i == 2:\n",
    "        break\n",
    "\n",
    "print('총', len(conversations), '개의 대화를 찾았습니다.')\n",
    "\n",
    "for c in conversations:\n",
    "    print(str(c))"
   ]
  },
  {
   "cell_type": "code",
   "execution_count": 4,
   "metadata": {},
   "outputs": [
    {
     "name": "stdout",
     "output_type": "stream",
     "text": [
      "<script>\n",
      "alert('탈퇴한 회원입니다.');\n",
      "location.href='./memberLoginForm.jsp';\n",
      "</script>\n",
      "\n"
     ]
    }
   ],
   "source": [
    "import requests\n",
    "from bs4 import BeautifulSoup as bs\n",
    "\n",
    "MEMBER_DATA = {\n",
    "    'memberID': 'a',\n",
    "    'memberPassword': 'a'\n",
    "}\n",
    "\n",
    "# 하나의 세션(Session) 객체를 생성해 일시적으로 유지합니다.\n",
    "with requests.Session() as s:\n",
    "    # 로그인 페이지로의 POST 요청(Request) 객체를 생성합니다.\n",
    "    request = s.post('http://dowellcomputer.com/member/memberLoginAction.jsp', data=MEMBER_DATA)\n",
    "    \n",
    "print(request.text)"
   ]
  },
  {
   "cell_type": "code",
   "execution_count": 5,
   "metadata": {},
   "outputs": [],
   "source": [
    "reuqest = s.get('http://dowellcomputer.com/member/memberUpdateForm.jsp?ID=a')\n",
    "if (request.text.find('탈퇴') == -1):\n",
    "    soup = bs(request.text, 'html.parser')\n",
    "\n",
    "    result = soup.find_all('input', {\"name\": \"memberEmail\"})\n",
    "\n",
    "    print(result[0].get('value'))"
   ]
  },
  {
   "cell_type": "code",
   "execution_count": null,
   "metadata": {},
   "outputs": [],
   "source": []
  }
 ],
 "metadata": {
  "kernelspec": {
   "display_name": "Python 3",
   "language": "python",
   "name": "python3"
  },
  "language_info": {
   "codemirror_mode": {
    "name": "ipython",
    "version": 3
   },
   "file_extension": ".py",
   "mimetype": "text/x-python",
   "name": "python",
   "nbconvert_exporter": "python",
   "pygments_lexer": "ipython3",
   "version": "3.8.3"
  }
 },
 "nbformat": 4,
 "nbformat_minor": 4
}
